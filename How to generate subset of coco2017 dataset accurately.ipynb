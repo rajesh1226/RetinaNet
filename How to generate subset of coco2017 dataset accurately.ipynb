{
 "cells": [
  {
   "cell_type": "code",
   "execution_count": 4,
   "metadata": {},
   "outputs": [],
   "source": [
    "%reload_ext autoreload\n",
    "%autoreload 2\n",
    "%matplotlib inline"
   ]
  },
  {
   "cell_type": "code",
   "execution_count": 7,
   "metadata": {},
   "outputs": [],
   "source": [
    "import os\n",
    "import wget\n",
    "import zipfile\n",
    "from pycocotools.coco import COCO\n",
    "import numpy as np\n",
    "import pandas as pd"
   ]
  },
  {
   "cell_type": "code",
   "execution_count": 6,
   "metadata": {},
   "outputs": [],
   "source": [
    "def load_data(path=None):\n",
    "    \"\"\"Download the coco dataset to disk if it is not already downloaded. This will generate 2 csv files\n",
    "    \n",
    "    Args: \n",
    "        path (str, optional): The path to store the coco 2017 data. \n",
    "        Defaults to None, will save at `tempfile.gettempdir()`.\n",
    "    \n",
    "    Return:\n",
    "        string: path to train csv file.\n",
    "        string: path to test csv file.\n",
    "        \"\"\"\n",
    "    if path is None:\n",
    "        path = os.path.join(tempfile.gettempdir(), \"coco\")\n",
    "    if not os.path.exists(path):\n",
    "        os.makedirs(path)\n",
    "        \n",
    "    train_csv = os.path.join(path,'train_coco.csv')\n",
    "    val_csv = os.path.join(path,'val_coco.csv')\n",
    "        \n",
    "    train_dir = os.path.join(path,'train2017')\n",
    "    val_dir = os.path.join(path, 'val2017')\n",
    "    annotations_dir = os.path.join(path, 'annotations')\n",
    "        \n",
    "    if not os.path.exists(os.path.join(path,'train2017.zip')):\n",
    "        print('Downloading training images')\n",
    "        wget.download('http://images.cocodataset.org/zips/train2017.zip', path)\n",
    "    if not os.path.exists(os.path.join(path,'val2017.zip')):\n",
    "        print('Downloading val images')\n",
    "        wget.download('http://images.cocodataset.org/zips/val2017.zip', path)\n",
    "    if not os.path.exists(os.path.join(path,'annotations_trainval2017.zip')):\n",
    "        print('Downloading annotation info')\n",
    "        wget.download('http://images.cocodataset.org/annotations/annotations_trainval2017.zip', path)\n",
    "    \n",
    "    if not os.path.exists(train_dir):\n",
    "        print('Extracting training images')\n",
    "        with zipfile.ZipFile(os.path.join(path,'train2017.zip'),'r') as zip_file:\n",
    "            zip_file.extractall(path)\n",
    "    \n",
    "    if not os.path.exists(val_dir):\n",
    "        print('Extracting validation images')\n",
    "        with zipfile.ZipFile(os.path.join(path,'val2017.zip'),'r') as zip_file:\n",
    "            zip_file.extractall(path)\n",
    "            \n",
    "    if not (os.path.exists(annotations_dir) and len(os.listdir(annotations_dir))!=0):\n",
    "        print('Extracting annotations')\n",
    "        with zipfile.ZipFile(os.path.join(path, 'annotations_trainval2017.zip'),'r') as zip_file:\n",
    "            zip_file.extractall(path)\n",
    "            \n",
    "    # Generating train and val csv files\n",
    "    train_annFile = os.path.join(annotations_dir,'instances_train2017.json')\n",
    "    val_annFile = os.path.join(annotations_dir,'instances_val2017.json')\n",
    "    \n",
    "    generate_csv(path, train_annFile, 'train2017', train_csv)\n",
    "    generate_csv(path, val_annFile, 'val2017', val_csv)\n",
    "            \n",
    "    return  train_csv, val_csv, path"
   ]
  },
  {
   "cell_type": "code",
   "execution_count": 5,
   "metadata": {},
   "outputs": [],
   "source": [
    "classes = {}\n",
    "coco_labels = {}\n",
    "coco_labels_inverse = {}\n",
    "\n",
    "def coco_labels_consecutive(coco):\n",
    "    categories = coco.loadCats(coco.getCatIds())\n",
    "    categories.sort(key=lambda x: x['id'])\n",
    "    for c in categories:\n",
    "        coco_labels[len(classes)] = c['id']\n",
    "        coco_labels_inverse[c['id']] = len(classes)\n",
    "        classes[c['name']] = len(classes)\n",
    "\n",
    "def coco_dict_empty():\n",
    "    coco_labels.clear()\n",
    "    coco_labels_inverse.clear()\n",
    "    classes.clear()\n",
    "\n",
    "        \n",
    "def category_2_category_consecutive(item):\n",
    "    return [coco_labels_inverse[label] for label in item]\n",
    "\n",
    "\n",
    "def format_bb(item):\n",
    "    x1s = []\n",
    "    y1s = []\n",
    "    x2s = []\n",
    "    y2s = []\n",
    "    for bb in item:\n",
    "        if bb[2] < 1 or bb[2] < 1:\n",
    "            continue\n",
    "        else:\n",
    "            x1s.append(bb[0])\n",
    "            y1s.append(bb[1])\n",
    "            x2s.append(bb[0]+bb[2])\n",
    "            y2s.append(bb[1]+bb[3])\n",
    "    return [x1s, y1s, x2s, y2s]\n",
    "\n",
    "def format_bb_xywh(item):\n",
    "    xs = []\n",
    "    ys = []\n",
    "    ws = []\n",
    "    hs = []\n",
    "    for bb in item:\n",
    "        if bb[2] < 1 or bb[3] < 1:\n",
    "            continue\n",
    "        else:\n",
    "            xs.append(bb[0])\n",
    "            ys.append(bb[1])\n",
    "            ws.append(bb[2])\n",
    "            hs.append(bb[3])\n",
    "    return [xs, ys, ws, hs]\n",
    "\n",
    "def generate_csv(path, annFile, datatype, dest_csv):\n",
    "    coco=COCO(annFile)\n",
    "    \n",
    "    coco_dict_empty()\n",
    "    coco_labels_consecutive(coco)\n",
    "    \n",
    "    image_ids = coco.getImgIds()\n",
    "    image_paths = [ coco.loadImgs(img_ids)[0]['file_name'] for img_ids in image_ids]\n",
    "    image_paths = [ os.path.join(path, datatype, img_path) for img_path in image_paths]\n",
    "    annotations_ids =  [coco.getAnnIds(imgIds=img_ids, iscrowd=False) for img_ids in image_ids]\n",
    "    annot_len = [len(annot_id) for annot_id in annotations_ids ]\n",
    "    annot_len = np.array(annot_len)\n",
    "    annot_filter = annot_len == 0  # filtering out cases where annotation is null\n",
    "    annotations_details = [[ coco.loadAnns(ann_ids)[0]['bbox'] for ann_ids in ann_img] for ann_img in annotations_ids]\n",
    "    annotations_details_filter =   [annot for  annot, cond in zip(annotations_details, annot_filter) if cond==False]\n",
    "    \n",
    "    category_details = [[ coco.loadAnns(ann_ids)[0]['category_id'] for ann_ids in ann_img] for ann_img in annotations_ids]\n",
    "    category_details_filter = [label for label,cond in zip(category_details, annot_filter) if cond==False]\n",
    "    \n",
    "    category_consecutive_details_filter = [ category_2_category_consecutive(label) for label in category_details_filter]\n",
    "    \n",
    "    image_paths_filter = [image for image,cond in zip(image_paths, annot_filter) if cond==False]\n",
    "    image_ids_filter = [image_id for image_id, cond in zip(image_ids, annot_filter) if cond==False]\n",
    "    \n",
    "    annotations_xywh = [ format_bb_xywh(item) for item in annotations_details_filter]\n",
    "    \n",
    "    x = [annotations[0] for annotations in  annotations_xywh]\n",
    "    y = [annotations[1] for annotations in  annotations_xywh]\n",
    "    w = [annotations[2] for annotations in  annotations_xywh]\n",
    "    h = [annotations[3] for annotations in  annotations_xywh]\n",
    "    \n",
    "    row_list = []\n",
    "    for img, img_id, x_item, y_item, w_item, h_item,label_item in \\\n",
    "                                        zip(image_paths_filter, image_ids_filter, x, y, w, h, category_consecutive_details_filter):\n",
    "        row_dict = {'image':img, 'image_id': img_id, 'x':x_item, 'y': y_item, 'w': w_item, 'h': h_item, 'label': label_item}\n",
    "        row_list.append(row_dict)\n",
    "    df = pd.DataFrame(row_list, columns=['image','image_id', 'label', 'x', 'y', 'w', 'h'])\n",
    "    df.to_csv(dest_csv, index=False)\n",
    "    "
   ]
  },
  {
   "cell_type": "markdown",
   "metadata": {},
   "source": [
    "### Gererate train csv and val csv from mscoco 2017 dataset."
   ]
  },
  {
   "cell_type": "code",
   "execution_count": 8,
   "metadata": {},
   "outputs": [
    {
     "name": "stdout",
     "output_type": "stream",
     "text": [
      "loading annotations into memory...\n",
      "Done (t=18.23s)\n",
      "creating index...\n",
      "index created!\n",
      "loading annotations into memory...\n",
      "Done (t=0.45s)\n",
      "creating index...\n",
      "index created!\n"
     ]
    }
   ],
   "source": [
    "train_csv, val_csv, path = load_data(path='/home/ubuntu/coco2017/MSCOCO2017/')"
   ]
  },
  {
   "cell_type": "markdown",
   "metadata": {},
   "source": [
    "### Please note the categories id have been changed from not contigious 1-90 to contigious 0-80.\n"
   ]
  },
  {
   "cell_type": "markdown",
   "metadata": {},
   "source": [
    "The above csv contains the entire, training dataset of coco2017. For the initial stages of implementatin of retinanet it would make lot of sense to go with the subset of cocc2017 dataset. The rest of the section on how to generate a accurate subset."
   ]
  },
  {
   "cell_type": "code",
   "execution_count": 10,
   "metadata": {},
   "outputs": [],
   "source": [
    "dataDir='/home/ubuntu/coco2017/MSCOCO2017/'\n",
    "dataType='train2017'\n",
    "# dataType='val2017'\n",
    "annFile='{}/annotations/instances_{}.json'.format(dataDir,dataType)"
   ]
  },
  {
   "cell_type": "code",
   "execution_count": 11,
   "metadata": {},
   "outputs": [
    {
     "data": {
      "text/plain": [
       "'/home/ubuntu/coco2017/MSCOCO2017//annotations/instances_train2017.json'"
      ]
     },
     "execution_count": 11,
     "metadata": {},
     "output_type": "execute_result"
    }
   ],
   "source": [
    "annFile"
   ]
  },
  {
   "cell_type": "code",
   "execution_count": 12,
   "metadata": {},
   "outputs": [
    {
     "name": "stdout",
     "output_type": "stream",
     "text": [
      "loading annotations into memory...\n",
      "Done (t=15.36s)\n",
      "creating index...\n",
      "index created!\n"
     ]
    }
   ],
   "source": [
    "coco=COCO(annFile)"
   ]
  },
  {
   "cell_type": "code",
   "execution_count": 13,
   "metadata": {},
   "outputs": [
    {
     "data": {
      "text/plain": [
       "[{'supercategory': 'person', 'id': 1, 'name': 'person'},\n",
       " {'supercategory': 'vehicle', 'id': 2, 'name': 'bicycle'},\n",
       " {'supercategory': 'vehicle', 'id': 3, 'name': 'car'},\n",
       " {'supercategory': 'vehicle', 'id': 4, 'name': 'motorcycle'},\n",
       " {'supercategory': 'vehicle', 'id': 5, 'name': 'airplane'},\n",
       " {'supercategory': 'vehicle', 'id': 6, 'name': 'bus'},\n",
       " {'supercategory': 'vehicle', 'id': 7, 'name': 'train'},\n",
       " {'supercategory': 'vehicle', 'id': 8, 'name': 'truck'},\n",
       " {'supercategory': 'vehicle', 'id': 9, 'name': 'boat'},\n",
       " {'supercategory': 'outdoor', 'id': 10, 'name': 'traffic light'},\n",
       " {'supercategory': 'outdoor', 'id': 11, 'name': 'fire hydrant'},\n",
       " {'supercategory': 'outdoor', 'id': 13, 'name': 'stop sign'},\n",
       " {'supercategory': 'outdoor', 'id': 14, 'name': 'parking meter'},\n",
       " {'supercategory': 'outdoor', 'id': 15, 'name': 'bench'},\n",
       " {'supercategory': 'animal', 'id': 16, 'name': 'bird'},\n",
       " {'supercategory': 'animal', 'id': 17, 'name': 'cat'},\n",
       " {'supercategory': 'animal', 'id': 18, 'name': 'dog'},\n",
       " {'supercategory': 'animal', 'id': 19, 'name': 'horse'},\n",
       " {'supercategory': 'animal', 'id': 20, 'name': 'sheep'},\n",
       " {'supercategory': 'animal', 'id': 21, 'name': 'cow'},\n",
       " {'supercategory': 'animal', 'id': 22, 'name': 'elephant'},\n",
       " {'supercategory': 'animal', 'id': 23, 'name': 'bear'},\n",
       " {'supercategory': 'animal', 'id': 24, 'name': 'zebra'},\n",
       " {'supercategory': 'animal', 'id': 25, 'name': 'giraffe'},\n",
       " {'supercategory': 'accessory', 'id': 27, 'name': 'backpack'},\n",
       " {'supercategory': 'accessory', 'id': 28, 'name': 'umbrella'},\n",
       " {'supercategory': 'accessory', 'id': 31, 'name': 'handbag'},\n",
       " {'supercategory': 'accessory', 'id': 32, 'name': 'tie'},\n",
       " {'supercategory': 'accessory', 'id': 33, 'name': 'suitcase'},\n",
       " {'supercategory': 'sports', 'id': 34, 'name': 'frisbee'},\n",
       " {'supercategory': 'sports', 'id': 35, 'name': 'skis'},\n",
       " {'supercategory': 'sports', 'id': 36, 'name': 'snowboard'},\n",
       " {'supercategory': 'sports', 'id': 37, 'name': 'sports ball'},\n",
       " {'supercategory': 'sports', 'id': 38, 'name': 'kite'},\n",
       " {'supercategory': 'sports', 'id': 39, 'name': 'baseball bat'},\n",
       " {'supercategory': 'sports', 'id': 40, 'name': 'baseball glove'},\n",
       " {'supercategory': 'sports', 'id': 41, 'name': 'skateboard'},\n",
       " {'supercategory': 'sports', 'id': 42, 'name': 'surfboard'},\n",
       " {'supercategory': 'sports', 'id': 43, 'name': 'tennis racket'},\n",
       " {'supercategory': 'kitchen', 'id': 44, 'name': 'bottle'},\n",
       " {'supercategory': 'kitchen', 'id': 46, 'name': 'wine glass'},\n",
       " {'supercategory': 'kitchen', 'id': 47, 'name': 'cup'},\n",
       " {'supercategory': 'kitchen', 'id': 48, 'name': 'fork'},\n",
       " {'supercategory': 'kitchen', 'id': 49, 'name': 'knife'},\n",
       " {'supercategory': 'kitchen', 'id': 50, 'name': 'spoon'},\n",
       " {'supercategory': 'kitchen', 'id': 51, 'name': 'bowl'},\n",
       " {'supercategory': 'food', 'id': 52, 'name': 'banana'},\n",
       " {'supercategory': 'food', 'id': 53, 'name': 'apple'},\n",
       " {'supercategory': 'food', 'id': 54, 'name': 'sandwich'},\n",
       " {'supercategory': 'food', 'id': 55, 'name': 'orange'},\n",
       " {'supercategory': 'food', 'id': 56, 'name': 'broccoli'},\n",
       " {'supercategory': 'food', 'id': 57, 'name': 'carrot'},\n",
       " {'supercategory': 'food', 'id': 58, 'name': 'hot dog'},\n",
       " {'supercategory': 'food', 'id': 59, 'name': 'pizza'},\n",
       " {'supercategory': 'food', 'id': 60, 'name': 'donut'},\n",
       " {'supercategory': 'food', 'id': 61, 'name': 'cake'},\n",
       " {'supercategory': 'furniture', 'id': 62, 'name': 'chair'},\n",
       " {'supercategory': 'furniture', 'id': 63, 'name': 'couch'},\n",
       " {'supercategory': 'furniture', 'id': 64, 'name': 'potted plant'},\n",
       " {'supercategory': 'furniture', 'id': 65, 'name': 'bed'},\n",
       " {'supercategory': 'furniture', 'id': 67, 'name': 'dining table'},\n",
       " {'supercategory': 'furniture', 'id': 70, 'name': 'toilet'},\n",
       " {'supercategory': 'electronic', 'id': 72, 'name': 'tv'},\n",
       " {'supercategory': 'electronic', 'id': 73, 'name': 'laptop'},\n",
       " {'supercategory': 'electronic', 'id': 74, 'name': 'mouse'},\n",
       " {'supercategory': 'electronic', 'id': 75, 'name': 'remote'},\n",
       " {'supercategory': 'electronic', 'id': 76, 'name': 'keyboard'},\n",
       " {'supercategory': 'electronic', 'id': 77, 'name': 'cell phone'},\n",
       " {'supercategory': 'appliance', 'id': 78, 'name': 'microwave'},\n",
       " {'supercategory': 'appliance', 'id': 79, 'name': 'oven'},\n",
       " {'supercategory': 'appliance', 'id': 80, 'name': 'toaster'},\n",
       " {'supercategory': 'appliance', 'id': 81, 'name': 'sink'},\n",
       " {'supercategory': 'appliance', 'id': 82, 'name': 'refrigerator'},\n",
       " {'supercategory': 'indoor', 'id': 84, 'name': 'book'},\n",
       " {'supercategory': 'indoor', 'id': 85, 'name': 'clock'},\n",
       " {'supercategory': 'indoor', 'id': 86, 'name': 'vase'},\n",
       " {'supercategory': 'indoor', 'id': 87, 'name': 'scissors'},\n",
       " {'supercategory': 'indoor', 'id': 88, 'name': 'teddy bear'},\n",
       " {'supercategory': 'indoor', 'id': 89, 'name': 'hair drier'},\n",
       " {'supercategory': 'indoor', 'id': 90, 'name': 'toothbrush'}]"
      ]
     },
     "execution_count": 13,
     "metadata": {},
     "output_type": "execute_result"
    }
   ],
   "source": [
    "cats = coco.loadCats(coco.getCatIds())\n",
    "cats"
   ]
  },
  {
   "cell_type": "markdown",
   "metadata": {},
   "source": [
    "Rather than going for all the 80 categories , here we choose only 1-25 categories. We will try to filter the coco dataset for categories belonging to 1-25 only."
   ]
  },
  {
   "cell_type": "code",
   "execution_count": 14,
   "metadata": {},
   "outputs": [],
   "source": [
    "arg_set = {0,1,2,3,4,5,6,7,8,9,10,11,12,13,14,15,16,17,18,19,20,21,22,23,24,25}"
   ]
  },
  {
   "cell_type": "code",
   "execution_count": 17,
   "metadata": {},
   "outputs": [],
   "source": [
    "df = pd.read_csv('/home/ubuntu/coco2017/MSCOCO2017/train_coco.csv')\n",
    "# df = pd.read_csv('/home/ubuntu/coco2017/MSCOCO2017/val_coco.csv')"
   ]
  },
  {
   "cell_type": "code",
   "execution_count": 18,
   "metadata": {},
   "outputs": [
    {
     "data": {
      "text/html": [
       "<div>\n",
       "<style scoped>\n",
       "    .dataframe tbody tr th:only-of-type {\n",
       "        vertical-align: middle;\n",
       "    }\n",
       "\n",
       "    .dataframe tbody tr th {\n",
       "        vertical-align: top;\n",
       "    }\n",
       "\n",
       "    .dataframe thead th {\n",
       "        text-align: right;\n",
       "    }\n",
       "</style>\n",
       "<table border=\"1\" class=\"dataframe\">\n",
       "  <thead>\n",
       "    <tr style=\"text-align: right;\">\n",
       "      <th></th>\n",
       "      <th>image</th>\n",
       "      <th>image_id</th>\n",
       "      <th>label</th>\n",
       "      <th>x</th>\n",
       "      <th>y</th>\n",
       "      <th>w</th>\n",
       "      <th>h</th>\n",
       "    </tr>\n",
       "  </thead>\n",
       "  <tbody>\n",
       "    <tr>\n",
       "      <th>0</th>\n",
       "      <td>/home/ubuntu/coco2017/MSCOCO2017/train2017/000...</td>\n",
       "      <td>391895</td>\n",
       "      <td>[3, 0, 0, 1]</td>\n",
       "      <td>[359.17, 339.88, 471.64, 486.01]</td>\n",
       "      <td>[146.17, 22.16, 172.82, 183.31]</td>\n",
       "      <td>[112.45, 153.88, 35.92, 30.63]</td>\n",
       "      <td>[213.57, 300.73, 48.1, 34.98]</td>\n",
       "    </tr>\n",
       "    <tr>\n",
       "      <th>1</th>\n",
       "      <td>/home/ubuntu/coco2017/MSCOCO2017/train2017/000...</td>\n",
       "      <td>522418</td>\n",
       "      <td>[0, 43, 55, 71]</td>\n",
       "      <td>[382.48, 234.06, 0.0, 305.45]</td>\n",
       "      <td>[0.0, 406.61, 316.04, 172.05]</td>\n",
       "      <td>[256.8, 219.94, 406.65, 57.36]</td>\n",
       "      <td>[474.31, 42.67, 157.49, 77.3]</td>\n",
       "    </tr>\n",
       "    <tr>\n",
       "      <th>2</th>\n",
       "      <td>/home/ubuntu/coco2017/MSCOCO2017/train2017/000...</td>\n",
       "      <td>184613</td>\n",
       "      <td>[19, 19, 19, 19, 19, 25, 19, 0, 0, 0, 0, 0, 0,...</td>\n",
       "      <td>[239.9, 285.08, 452.49, 296.96, 461.07, 103.44...</td>\n",
       "      <td>[111.16, 85.99, 85.93, 68.01, 75.92, 31.01, 59...</td>\n",
       "      <td>[128.62, 170.23, 47.51, 22.39, 34.46, 154.79, ...</td>\n",
       "      <td>[99.71, 64.48, 22.82, 21.06, 14.19, 135.15, 12...</td>\n",
       "    </tr>\n",
       "    <tr>\n",
       "      <th>3</th>\n",
       "      <td>/home/ubuntu/coco2017/MSCOCO2017/train2017/000...</td>\n",
       "      <td>318219</td>\n",
       "      <td>[0, 0, 64, 64, 66, 66, 64, 62, 62, 62, 64]</td>\n",
       "      <td>[40.65, 0.0, 455.98, 405.44, 314.26, 276.83, 3...</td>\n",
       "      <td>[38.8, 0.0, 436.73, 594.41, 479.43, 241.89, 19...</td>\n",
       "      <td>[418.38, 198.92, 58.57, 76.59, 156.41, 159.37,...</td>\n",
       "      <td>[601.2, 631.35, 36.36, 40.23, 90.4, 165.01, 48...</td>\n",
       "    </tr>\n",
       "    <tr>\n",
       "      <th>4</th>\n",
       "      <td>/home/ubuntu/coco2017/MSCOCO2017/train2017/000...</td>\n",
       "      <td>554625</td>\n",
       "      <td>[62, 62, 0, 0, 0, 62, 64, 64, 66, 66, 66, 62, ...</td>\n",
       "      <td>[380.74, 339.13, 2.87, 105.2, 84.03, 359.55, 3...</td>\n",
       "      <td>[112.85, 32.99, 73.18, 36.83, 1.57, 68.79, 580...</td>\n",
       "      <td>[40.62, 32.99, 143.5, 112.06, 110.94, 46.02, 6...</td>\n",
       "      <td>[248.82, 175.5, 532.38, 227.87, 64.99, 202.79,...</td>\n",
       "    </tr>\n",
       "  </tbody>\n",
       "</table>\n",
       "</div>"
      ],
      "text/plain": [
       "                                               image  image_id  \\\n",
       "0  /home/ubuntu/coco2017/MSCOCO2017/train2017/000...    391895   \n",
       "1  /home/ubuntu/coco2017/MSCOCO2017/train2017/000...    522418   \n",
       "2  /home/ubuntu/coco2017/MSCOCO2017/train2017/000...    184613   \n",
       "3  /home/ubuntu/coco2017/MSCOCO2017/train2017/000...    318219   \n",
       "4  /home/ubuntu/coco2017/MSCOCO2017/train2017/000...    554625   \n",
       "\n",
       "                                               label  \\\n",
       "0                                       [3, 0, 0, 1]   \n",
       "1                                    [0, 43, 55, 71]   \n",
       "2  [19, 19, 19, 19, 19, 25, 19, 0, 0, 0, 0, 0, 0,...   \n",
       "3         [0, 0, 64, 64, 66, 66, 64, 62, 62, 62, 64]   \n",
       "4  [62, 62, 0, 0, 0, 62, 64, 64, 66, 66, 66, 62, ...   \n",
       "\n",
       "                                                   x  \\\n",
       "0                   [359.17, 339.88, 471.64, 486.01]   \n",
       "1                      [382.48, 234.06, 0.0, 305.45]   \n",
       "2  [239.9, 285.08, 452.49, 296.96, 461.07, 103.44...   \n",
       "3  [40.65, 0.0, 455.98, 405.44, 314.26, 276.83, 3...   \n",
       "4  [380.74, 339.13, 2.87, 105.2, 84.03, 359.55, 3...   \n",
       "\n",
       "                                                   y  \\\n",
       "0                    [146.17, 22.16, 172.82, 183.31]   \n",
       "1                      [0.0, 406.61, 316.04, 172.05]   \n",
       "2  [111.16, 85.99, 85.93, 68.01, 75.92, 31.01, 59...   \n",
       "3  [38.8, 0.0, 436.73, 594.41, 479.43, 241.89, 19...   \n",
       "4  [112.85, 32.99, 73.18, 36.83, 1.57, 68.79, 580...   \n",
       "\n",
       "                                                   w  \\\n",
       "0                     [112.45, 153.88, 35.92, 30.63]   \n",
       "1                     [256.8, 219.94, 406.65, 57.36]   \n",
       "2  [128.62, 170.23, 47.51, 22.39, 34.46, 154.79, ...   \n",
       "3  [418.38, 198.92, 58.57, 76.59, 156.41, 159.37,...   \n",
       "4  [40.62, 32.99, 143.5, 112.06, 110.94, 46.02, 6...   \n",
       "\n",
       "                                                   h  \n",
       "0                      [213.57, 300.73, 48.1, 34.98]  \n",
       "1                      [474.31, 42.67, 157.49, 77.3]  \n",
       "2  [99.71, 64.48, 22.82, 21.06, 14.19, 135.15, 12...  \n",
       "3  [601.2, 631.35, 36.36, 40.23, 90.4, 165.01, 48...  \n",
       "4  [248.82, 175.5, 532.38, 227.87, 64.99, 202.79,...  "
      ]
     },
     "execution_count": 18,
     "metadata": {},
     "output_type": "execute_result"
    }
   ],
   "source": [
    "df.head()"
   ]
  },
  {
   "cell_type": "code",
   "execution_count": 19,
   "metadata": {},
   "outputs": [],
   "source": [
    "from ast import literal_eval\n",
    "df['label_set']= df['label'].apply(lambda x: set(literal_eval(x)))"
   ]
  },
  {
   "cell_type": "code",
   "execution_count": 21,
   "metadata": {},
   "outputs": [],
   "source": [
    "df['subset_select_arg'] = df['label_set'].apply(lambda x : x.issubset(arg_set))"
   ]
  },
  {
   "cell_type": "code",
   "execution_count": 22,
   "metadata": {},
   "outputs": [],
   "source": [
    "df_new =  df[df['subset_select_arg']==True]"
   ]
  },
  {
   "cell_type": "code",
   "execution_count": 24,
   "metadata": {},
   "outputs": [
    {
     "data": {
      "text/plain": [
       "22144"
      ]
     },
     "execution_count": 24,
     "metadata": {},
     "output_type": "execute_result"
    }
   ],
   "source": [
    "len(df_new)"
   ]
  },
  {
   "cell_type": "code",
   "execution_count": null,
   "metadata": {},
   "outputs": [],
   "source": [
    "df_new.to_csv('train_first_26categories.csv', index=False)"
   ]
  },
  {
   "cell_type": "code",
   "execution_count": 25,
   "metadata": {},
   "outputs": [],
   "source": [
    "# df_new.to_csv('val_first_26categories.csv', index=False)"
   ]
  },
  {
   "cell_type": "markdown",
   "metadata": {},
   "source": [
    "### Please note the categories id have been changed from not contigious 1-90 to contigious 0-80."
   ]
  },
  {
   "cell_type": "code",
   "execution_count": null,
   "metadata": {},
   "outputs": [],
   "source": []
  }
 ],
 "metadata": {
  "kernelspec": {
   "display_name": "fastesti2",
   "language": "python",
   "name": "fastesti2"
  }
 },
 "nbformat": 4,
 "nbformat_minor": 4
}
